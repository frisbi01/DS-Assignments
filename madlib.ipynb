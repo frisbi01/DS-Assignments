{
 "cells": [
  {
   "cell_type": "code",
   "execution_count": 4,
   "metadata": {},
   "outputs": [
    {
     "name": "stdout",
     "output_type": "stream",
     "text": [
      "Let's play a quick round of MadLibs, shall we?\n",
      "We are done for now, so let's check the results, shall we?\n"
     ]
    },
    {
     "ename": "NameError",
     "evalue": "name 'plnoun' is not defined",
     "output_type": "error",
     "traceback": [
      "\u001b[0;31m---------------------------------------------------------------------------\u001b[0m",
      "\u001b[0;31mNameError\u001b[0m                                 Traceback (most recent call last)",
      "Cell \u001b[0;32mIn [4], line 17\u001b[0m\n\u001b[1;32m     13\u001b[0m noun3 \u001b[38;5;241m=\u001b[39m \u001b[38;5;28minput\u001b[39m(\u001b[38;5;124m\"\u001b[39m\u001b[38;5;124mAnd a noun to finish\u001b[39m\u001b[38;5;124m\"\u001b[39m)\n\u001b[1;32m     14\u001b[0m \u001b[38;5;28mprint\u001b[39m (\u001b[38;5;124m\"\u001b[39m\u001b[38;5;124mWe are done for now, so let\u001b[39m\u001b[38;5;124m'\u001b[39m\u001b[38;5;124ms check the results, shall we?\u001b[39m\u001b[38;5;124m\"\u001b[39m)\n\u001b[1;32m     16\u001b[0m \u001b[38;5;28mprint\u001b[39m(\u001b[38;5;124m\"\u001b[39m\u001b[38;5;124mStar Wars is a \u001b[39m\u001b[38;5;124m\"\u001b[39m\u001b[38;5;241m+\u001b[39madj1\u001b[38;5;241m+\u001b[39m\u001b[38;5;124m\"\u001b[39m\u001b[38;5;124m \u001b[39m\u001b[38;5;124m\"\u001b[39m\u001b[38;5;241m+\u001b[39mnoun1\u001b[38;5;241m+\u001b[39m\u001b[38;5;124m\"\u001b[39m\u001b[38;5;124m of \u001b[39m\u001b[38;5;124m\"\u001b[39m\u001b[38;5;241m+\u001b[39madj2\u001b[38;5;241m+\u001b[39m\u001b[38;5;124m\"\u001b[39m\u001b[38;5;124m versus evil in a \u001b[39m\u001b[38;5;124m\"\u001b[39m\u001b[38;5;241m+\u001b[39mnoun2\u001b[38;5;241m+\u001b[39m\u001b[38;5;124m\"\u001b[39m\u001b[38;5;124m far far away. \u001b[39m\u001b[38;5;124m\"\u001b[39m,\n\u001b[0;32m---> 17\u001b[0m \u001b[38;5;124m\"\u001b[39m\u001b[38;5;124mThe Jedi \u001b[39m\u001b[38;5;124m\"\u001b[39m\u001b[38;5;241m+\u001b[39mplnoun\u001b[38;5;241m+\u001b[39m\u001b[38;5;124m\"\u001b[39m\u001b[38;5;124m use the Force for the \u001b[39m\u001b[38;5;124m\"\u001b[39m\u001b[38;5;241m+\u001b[39madj3\u001b[38;5;241m+\u001b[39m\u001b[38;5;124m\"\u001b[39m\u001b[38;5;124m side and the Sith \u001b[39m\u001b[38;5;124m\"\u001b[39m\u001b[38;5;241m+\u001b[39mverb1\u001b[38;5;241m+\u001b[39m\u001b[38;5;124m\"\u001b[39m\u001b[38;5;124m it for the \u001b[39m\u001b[38;5;124m\"\u001b[39m\u001b[38;5;241m+\u001b[39madj4\u001b[38;5;241m+\u001b[39m\u001b[38;5;124m\"\u001b[39m\u001b[38;5;124m side.\u001b[39m\u001b[38;5;124m\"\u001b[39m)\n",
      "\u001b[0;31mNameError\u001b[0m: name 'plnoun' is not defined"
     ]
    }
   ],
   "source": [
    "# Questions\n",
    "\n",
    "\n",
    "print (\"Let's play a quick round of MadLibs, shall we?\")\n",
    "\n",
    "adj1 = input(\"So, first, give me an adjective\")\n",
    "noun1 = input(\"Now, give me a noun\")\n",
    "adj2 = input(\"Another adjective\")\n",
    "noun2 = input(\"Another noun\")\n",
    "adj3 = input(\"How about another adjective?\")\n",
    "verb1 = input(\"A verb would be nice for a change\")\n",
    "adj4 = input(\"Guess what, another adjective\")\n",
    "noun3= input(\"And a noun to finish\")\n",
    "print (\"We are done for now, so let's check the results, shall we?\")\n",
    "\n",
    "print(\"Star Wars is a \"+adj1+\" \"+noun1+\" of \"+adj2+\" versus evil in a \"+noun2+\" far far away. \",\n",
    "\"The Jedi \"+noun3+\" use the Force for the \"+adj3+\" side and the Sith \"+verb1+\" it for the \"+adj4+\" side.\")"
   ]
  },
  {
   "cell_type": "code",
   "execution_count": null,
   "metadata": {},
   "outputs": [],
   "source": [
    "print(\"Star Wars is a \"+adj1+\" \"+noun1+\" of \"+adj2+\" versus evil in a \"+noun2+\" far far away./n\",\"There are \"+adj3)"
   ]
  }
 ],
 "metadata": {
  "kernelspec": {
   "display_name": "Python 3.10.7 64-bit",
   "language": "python",
   "name": "python3"
  },
  "language_info": {
   "codemirror_mode": {
    "name": "ipython",
    "version": 3
   },
   "file_extension": ".py",
   "mimetype": "text/x-python",
   "name": "python",
   "nbconvert_exporter": "python",
   "pygments_lexer": "ipython3",
   "version": "3.10.7"
  },
  "orig_nbformat": 4,
  "vscode": {
   "interpreter": {
    "hash": "aee8b7b246df8f9039afb4144a1f6fd8d2ca17a180786b69acc140d282b71a49"
   }
  }
 },
 "nbformat": 4,
 "nbformat_minor": 2
}
