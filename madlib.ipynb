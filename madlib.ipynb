{
 "cells": [
  {
   "cell_type": "code",
   "execution_count": null,
   "metadata": {},
   "outputs": [],
   "source": [
    "# Questions\n",
    "\n",
    "\n",
    "print (\"Let's play a quick round of MadLibs, shall we?\")\n",
    "\n",
    "adj1 = input(\"So, first, give me an adjective\")\n",
    "noun1 = input(\"Now, give me a noun\")\n",
    "adj2 = input(\"Another adjective\")\n",
    "noun2 = input(\"Another noun\")\n",
    "adj3 = input(\"How about another adjective?\")\n",
    "verb1 = input(\"A verb would be nice for a change\")\n",
    "adj4 = input(\"Guess what, another adjective\")\n",
    "noun3= input(\"And a noun to finish\")\n",
    "print (\"We are done for now, so let's check the results, shall we?\")\n",
    "\n",
    "print(\"Star Wars is a \"+adj1+\" \"+noun1+\" of \"+adj2+\" versus evil in a \"+noun2+\" far far away. \",\n",
    "\"The Jedi \"+noun3+\" use the Force for the \"+adj3+\" side and the Sith \"+verb1+\" it for the \"+adj4+\" side.\")"
   ]
  }
 ],
 "metadata": {
  "kernelspec": {
   "display_name": "Python 3.10.7 64-bit",
   "language": "python",
   "name": "python3"
  },
  "language_info": {
   "codemirror_mode": {
    "name": "ipython",
    "version": 3
   },
   "file_extension": ".py",
   "mimetype": "text/x-python",
   "name": "python",
   "nbconvert_exporter": "python",
   "pygments_lexer": "ipython3",
   "version": "3.10.7"
  },
  "orig_nbformat": 4,
  "vscode": {
   "interpreter": {
    "hash": "aee8b7b246df8f9039afb4144a1f6fd8d2ca17a180786b69acc140d282b71a49"
   }
  }
 },
 "nbformat": 4,
 "nbformat_minor": 2
}
