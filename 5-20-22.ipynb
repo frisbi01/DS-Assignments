{
 "cells": [
  {
   "cell_type": "code",
   "execution_count": 4,
   "metadata": {},
   "outputs": [
    {
     "name": "stdout",
     "output_type": "stream",
     "text": [
      "0.9966000000000002\n"
     ]
    }
   ],
   "source": [
    "def convert_to_kg (num):\n",
    "\n",
    "    kg = num * 0.453\n",
    "\n",
    "    return (kg)\n",
    "\n",
    "print(convert_to_kg (2.2))"
   ]
  },
  {
   "cell_type": "code",
   "execution_count": 5,
   "metadata": {},
   "outputs": [
    {
     "name": "stdout",
     "output_type": "stream",
     "text": [
      "-17.22222222222222\n"
     ]
    }
   ],
   "source": [
    "def convert_to_celcius (num):\n",
    "\n",
    "    cel = (num-32)*(5/9)\n",
    "\n",
    "    return (cel)\n",
    "\n",
    "print (convert_to_celcius(1))"
   ]
  },
  {
   "cell_type": "code",
   "execution_count": null,
   "metadata": {},
   "outputs": [],
   "source": [
    "cars = ['Ford', 'Volvo', 'Ferrari']\n",
    "print (cars)\n",
    "print (cars[2])\n",
    "\n",
    "#Check the length of an array\n",
    "len(cars)\n",
    "\n",
    "# looping through an array\n",
    "for i in cars:\n",
    "    print(i)\n",
    "\n",
    "#removing array element\n",
    "cars.pop(1)\n",
    "\n",
    "#remove an element from an array\n",
    "cars.pop('Ferrari')\n",
    "\n",
    "#sorting\n",
    "number = ['c', 'd', 'a','f']\n",
    "number.sort()\n",
    "print (number)"
   ]
  },
  {
   "cell_type": "code",
   "execution_count": 16,
   "metadata": {},
   "outputs": [
    {
     "name": "stdout",
     "output_type": "stream",
     "text": [
      "['abc', 34, True, 'male']\n"
     ]
    }
   ],
   "source": [
    "#A list takes different data types\n",
    "list1 = ['abc', 34, True, 'male']\n",
    "print(list1)"
   ]
  },
  {
   "cell_type": "code",
   "execution_count": 24,
   "metadata": {},
   "outputs": [
    {
     "name": "stdout",
     "output_type": "stream",
     "text": [
      "['i', 'd', 'l', 'e']\n",
      "['i', 'd']\n",
      "['i', 'n']\n",
      "['s', 'i', 'n']\n",
      "['s', 'i', 'n', 'g']\n"
     ]
    }
   ],
   "source": [
    "#usecases of lists\n",
    "\n",
    "my_list = ['i','d', 'l', 'e']\n",
    "print(my_list)\n",
    "\n",
    "del my_list[2:4]\n",
    "print(my_list)\n",
    "\n",
    "my_list[1]='n'\n",
    "print(my_list)\n",
    "\n",
    "new_list=['s']+ my_list\n",
    "print(new_list)\n",
    "\n",
    "new_list.append('g')\n",
    "print(new_list)"
   ]
  },
  {
   "cell_type": "code",
   "execution_count": 26,
   "metadata": {},
   "outputs": [
    {
     "name": "stdout",
     "output_type": "stream",
     "text": [
      "['s', 't', 'i', 'n', 'g']\n"
     ]
    }
   ],
   "source": [
    "new_list.insert(1,'t')\n",
    "print(new_list)"
   ]
  },
  {
   "cell_type": "code",
   "execution_count": 6,
   "metadata": {},
   "outputs": [
    {
     "name": "stdout",
     "output_type": "stream",
     "text": [
      "This is a dummy\n"
     ]
    }
   ],
   "source": [
    "## reading from a text file\n",
    "\n",
    "with open ('Dummy.txt', 'r') as file:\n",
    "    for line in file:\n",
    "        print(line)"
   ]
  },
  {
   "cell_type": "code",
   "execution_count": 16,
   "metadata": {},
   "outputs": [
    {
     "name": "stdout",
     "output_type": "stream",
     "text": [
      "is This\n"
     ]
    }
   ],
   "source": [
    "with open('Dummy.txt','r') as file:\n",
    "    for line in file:\n",
    "        line = line.split(' ')\n",
    "        print (line[1].rstrip(), line[0])"
   ]
  },
  {
   "cell_type": "code",
   "execution_count": 18,
   "metadata": {},
   "outputs": [],
   "source": [
    "# Write and append data\n",
    "\n",
    "def save_to_file(name, age, form):\n",
    "    with open('new_data.txt','w') as file:\n",
    "        line =','.join([name, age , form])\n",
    "        file.write(line+'\\n')\n",
    "\n",
    "first_name = input('Enter your first name')\n",
    "surname = input('Enter your surname')\n",
    "age = input('Enter your age')\n",
    "save_to_file(surname, first_name, age)\n"
   ]
  },
  {
   "cell_type": "code",
   "execution_count": 24,
   "metadata": {},
   "outputs": [
    {
     "name": "stdout",
     "output_type": "stream",
     "text": [
      "gru margo\n",
      "gru edith\n",
      "gru agnes\n"
     ]
    }
   ],
   "source": [
    "import csv\n",
    "\n",
    "with open('csvdata.csv', 'r') as csvfile:\n",
    "    reader =  csv.reader(csvfile)\n",
    "    for line in reader:\n",
    "        print(line[1], line[0])"
   ]
  },
  {
   "cell_type": "code",
   "execution_count": 22,
   "metadata": {},
   "outputs": [],
   "source": [
    "with open('csvdata.csv', mode= 'a') as csv_file:\n",
    "    character_writer = csv.writer(csv_file, delimiter = ',', quoting = csv.QUOTE_MINIMAL)\n",
    "    character_writer.writerow(['margo', 'gru'])\n",
    "    character_writer.writerow(['edith', 'gru'])\n",
    "    character_writer.writerow(['agnes', 'gru'])"
   ]
  }
 ],
 "metadata": {
  "kernelspec": {
   "display_name": "Python 3.10.7 64-bit",
   "language": "python",
   "name": "python3"
  },
  "language_info": {
   "codemirror_mode": {
    "name": "ipython",
    "version": 3
   },
   "file_extension": ".py",
   "mimetype": "text/x-python",
   "name": "python",
   "nbconvert_exporter": "python",
   "pygments_lexer": "ipython3",
   "version": "3.10.7"
  },
  "orig_nbformat": 4,
  "vscode": {
   "interpreter": {
    "hash": "aee8b7b246df8f9039afb4144a1f6fd8d2ca17a180786b69acc140d282b71a49"
   }
  }
 },
 "nbformat": 4,
 "nbformat_minor": 2
}
