{
 "cells": [
  {
   "cell_type": "code",
   "execution_count": 14,
   "metadata": {},
   "outputs": [
    {
     "name": "stdout",
     "output_type": "stream",
     "text": [
      "23  is too low\n",
      "Your input was not a number\n",
      "23  is too low\n",
      "50  is too low\n",
      "70  is too low\n",
      "90  is too high \n",
      "80  is too low\n",
      "85  is too low\n",
      "Your guess was correct! Congratulations\n"
     ]
    }
   ],
   "source": [
    "from random import randint\n",
    "\n",
    "number = randint(-100,100) #Generates the random number. Is there a way for random range as well?\n",
    "\n",
    "\n",
    "guess = \"word\" #This makes guess Not a number, so we can go on to the next step of securing the user from entering digits only.\n",
    "token = True \n",
    "\n",
    "def compare(z,y): #This is a function to compare our numbers and give a way out of the loop\n",
    "        if z > y:\n",
    "            print(z,\" is too high \")\n",
    "            flag = True\n",
    "        elif z < y:\n",
    "            print(z,\" is too low\")\n",
    "            flag = True\n",
    "        else:\n",
    "            print(\"Your guess was correct! Congratulations\")\n",
    "            flag = False\n",
    "            return (flag)\n",
    "\n",
    "            \n",
    "\n",
    "\n",
    "\n",
    "\n",
    "\n",
    "while guess!=number :\n",
    "     #This is a loop to secure the entry being an actual number and not letters.\n",
    "    guess = input(\"Guess the number\")\n",
    "    if str.isdigit(guess) == False:\n",
    "        print(\"Your input was not a number\")\n",
    "        continue\n",
    "\n",
    "    token = compare(int(guess), number)\n",
    "\n",
    "    if token == False:\n",
    "        break\n",
    "    \n",
    "\n",
    "    \n",
    "   \n"
   ]
  },
  {
   "cell_type": "code",
   "execution_count": null,
   "metadata": {},
   "outputs": [],
   "source": []
  },
  {
   "cell_type": "code",
   "execution_count": null,
   "metadata": {},
   "outputs": [],
   "source": []
  }
 ],
 "metadata": {
  "kernelspec": {
   "display_name": "Python 3.10.7 64-bit",
   "language": "python",
   "name": "python3"
  },
  "language_info": {
   "codemirror_mode": {
    "name": "ipython",
    "version": 3
   },
   "file_extension": ".py",
   "mimetype": "text/x-python",
   "name": "python",
   "nbconvert_exporter": "python",
   "pygments_lexer": "ipython3",
   "version": "3.10.7"
  },
  "orig_nbformat": 4,
  "vscode": {
   "interpreter": {
    "hash": "aee8b7b246df8f9039afb4144a1f6fd8d2ca17a180786b69acc140d282b71a49"
   }
  }
 },
 "nbformat": 4,
 "nbformat_minor": 2
}
