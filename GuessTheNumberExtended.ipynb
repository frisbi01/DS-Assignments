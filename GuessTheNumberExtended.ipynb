{
 "cells": [
  {
   "cell_type": "code",
   "execution_count": null,
   "metadata": {},
   "outputs": [],
   "source": [
    "from random import randint\n",
    "\n",
    "number = randint(-100,100) #Generates the random number. Is there a way for random range as well?\n",
    "\n",
    "\n",
    "guess = \"word\" #This makes guess Not a number, so we can go on to the next step of securing the user from entering digits only.\n",
    "\n",
    "\n",
    "def compare(z,y): #This is a function to compare our numbers and give a way out of the loop\n",
    "        if z > y:\n",
    "            print(z,\" is too high \")\n",
    "            return\n",
    "        elif z < y:\n",
    "            print(z,\" is too low\")\n",
    "            return\n",
    "        else:\n",
    "            print(\"Your guess was correct! Congratulations\")\n",
    "            \n",
    "\n",
    "\n",
    "        \n",
    "        \n",
    "            \n",
    "        \n",
    "            \n",
    "\n",
    "\n",
    "\n",
    "while int(guess)!=number :\n",
    "    while str.isdigit(guess) == False: #This is a loop to secure the entry being an actual number and not letters.\n",
    "        guess = input(\"Guess the number\")\n",
    "        if str.isdigit(guess) == True:\n",
    "            int(guess)\n",
    "        \n",
    "            break \n",
    "        \n",
    "    \n",
    "    if int(guess) == number:\n",
    "        print(\"Your guess was correct! Congratulations\")\n",
    "        break\n",
    "    elif int(guess) < number:\n",
    "        print(guess,\" is too low\")\n",
    "        str(guess)\n",
    "    elif int(guess) > number:\n",
    "        print(guess,\" it too high\")\n",
    "        str(guess)"
   ]
  }
 ],
 "metadata": {
  "language_info": {
   "name": "python"
  },
  "orig_nbformat": 4
 },
 "nbformat": 4,
 "nbformat_minor": 2
}
