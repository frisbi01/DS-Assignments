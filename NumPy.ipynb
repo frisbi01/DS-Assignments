{
 "cells": [
  {
   "cell_type": "code",
   "execution_count": 1,
   "metadata": {},
   "outputs": [],
   "source": [
    "import numpy as np\n"
   ]
  },
  {
   "cell_type": "code",
   "execution_count": 3,
   "metadata": {},
   "outputs": [
    {
     "name": "stdout",
     "output_type": "stream",
     "text": [
      "42\n"
     ]
    }
   ],
   "source": [
    "# 0 dimensional array / Scaler\n",
    "arr = np.array(42)\n",
    "print (arr)"
   ]
  },
  {
   "cell_type": "code",
   "execution_count": 5,
   "metadata": {},
   "outputs": [
    {
     "name": "stdout",
     "output_type": "stream",
     "text": [
      "[1 2 3]\n"
     ]
    }
   ],
   "source": [
    "# 1 Dimensional Array\n",
    "my_one_dim = np.array([1,2,3])\n",
    "print (my_one_dim)"
   ]
  },
  {
   "cell_type": "code",
   "execution_count": 7,
   "metadata": {},
   "outputs": [
    {
     "name": "stdout",
     "output_type": "stream",
     "text": [
      "[[1 2 3]\n",
      " [4 5 6]]\n"
     ]
    }
   ],
   "source": [
    "# 2 Dimensional Arrays\n",
    "my_two_dim = np.array([[1,2,3],[4,5,6,]])\n",
    "print (my_two_dim)"
   ]
  },
  {
   "cell_type": "code",
   "execution_count": 12,
   "metadata": {},
   "outputs": [
    {
     "name": "stdout",
     "output_type": "stream",
     "text": [
      "[[[1 2 3]\n",
      "  [4 5 6]]\n",
      "\n",
      " [[1 2 3]\n",
      "  [4 5 6]]]\n"
     ]
    }
   ],
   "source": [
    "# 3 Dimensional Arrays\n",
    "my_three_dim =  np.array([[[1,2,3,],[4,5,6,]],[[1,2,3],[4,5,6,]]])\n",
    "print (my_three_dim)\n"
   ]
  },
  {
   "cell_type": "code",
   "execution_count": 17,
   "metadata": {},
   "outputs": [
    {
     "name": "stdout",
     "output_type": "stream",
     "text": [
      "[[0. 0.]\n",
      " [0. 0.]\n",
      " [0. 0.]]\n"
     ]
    }
   ],
   "source": [
    "#initialising a numpy array\n",
    "number_of_rows = 3\n",
    "number_of_columns = 2\n",
    "array_of_zeros = np.zeros((number_of_rows, number_of_columns))\n",
    "print (array_of_zeros)"
   ]
  },
  {
   "cell_type": "code",
   "execution_count": 18,
   "metadata": {},
   "outputs": [
    {
     "name": "stdout",
     "output_type": "stream",
     "text": [
      "[[1. 1.]\n",
      " [1. 1.]\n",
      " [1. 1.]]\n"
     ]
    }
   ],
   "source": [
    "number_of_rows = 3\n",
    "number_of_columns = 2\n",
    "array_of_ones = np.ones((number_of_rows, number_of_columns))\n",
    "print (array_of_ones)"
   ]
  },
  {
   "cell_type": "code",
   "execution_count": 21,
   "metadata": {},
   "outputs": [
    {
     "name": "stdout",
     "output_type": "stream",
     "text": [
      "[[25 25]\n",
      " [25 25]\n",
      " [25 25]]\n"
     ]
    }
   ],
   "source": [
    "arrays_of_5s = np.full((number_of_rows,number_of_columns),5)\n",
    "print (5*(arrays_of_5s))"
   ]
  },
  {
   "cell_type": "code",
   "execution_count": 13,
   "metadata": {},
   "outputs": [
    {
     "data": {
      "text/plain": [
       "array([10, 13, 16, 19, 22, 25])"
      ]
     },
     "execution_count": 13,
     "metadata": {},
     "output_type": "execute_result"
    }
   ],
   "source": [
    "#Arrange\n",
    "import numpy as np\n",
    "\n",
    "start = 10\n",
    "end = 26 #if we say 25, 25 will not be included\n",
    "step = 3\n",
    "\n",
    "evenly_step = np.arange(start, end, step)\n",
    "evenly_step "
   ]
  },
  {
   "cell_type": "code",
   "execution_count": 6,
   "metadata": {},
   "outputs": [
    {
     "data": {
      "text/plain": [
       "array([[1., 0., 0., 0.],\n",
       "       [0., 1., 0., 0.],\n",
       "       [0., 0., 1., 0.],\n",
       "       [0., 0., 0., 1.]])"
      ]
     },
     "execution_count": 6,
     "metadata": {},
     "output_type": "execute_result"
    }
   ],
   "source": [
    "#Diagonal matrix\n",
    "identity_matrix = np.eye(4)\n",
    "identity_matrix"
   ]
  },
  {
   "cell_type": "code",
   "execution_count": 8,
   "metadata": {},
   "outputs": [
    {
     "data": {
      "text/plain": [
       "array([[1, 0, 3],\n",
       "       [2, 2, 3]])"
      ]
     },
     "execution_count": 8,
     "metadata": {},
     "output_type": "execute_result"
    }
   ],
   "source": [
    "#Random Integer Array\n",
    "random_int_range = np.random.randint(0,10,(2,3)) #0-10 is the range and (2,3) are the rows and columns\n",
    "random_int_range"
   ]
  },
  {
   "cell_type": "code",
   "execution_count": 12,
   "metadata": {},
   "outputs": [
    {
     "data": {
      "text/plain": [
       "array([[0.49507037, 0.91513343, 0.51487099],\n",
       "       [0.80242352, 0.77084243, 0.79029615]])"
      ]
     },
     "execution_count": 12,
     "metadata": {},
     "output_type": "execute_result"
    }
   ],
   "source": [
    "random01 = np.random.random((2,3)) #random numbers in a 2 rows 3 columns array\n",
    "random01"
   ]
  },
  {
   "cell_type": "code",
   "execution_count": 14,
   "metadata": {},
   "outputs": [],
   "source": [
    "#Array is similar to list\n",
    "\n",
    "list = [1,2,3]\n",
    "arr = np.array"
   ]
  },
  {
   "cell_type": "code",
   "execution_count": 17,
   "metadata": {},
   "outputs": [
    {
     "data": {
      "text/plain": [
       "array([ 0,  2,  4, -5, -3, -7,  8, -9, -5, -1])"
      ]
     },
     "execution_count": 17,
     "metadata": {},
     "output_type": "execute_result"
    }
   ],
   "source": [
    "#Task 1 Find the odds in this array and replace them with their negative\n",
    "\n",
    "array = np.array([0,2,4,5,3,7,8,9,5,1])\n",
    "array [(array %2 == 1)] = -1 * array[(array%2 == 1)]\n",
    "array \n",
    "\n"
   ]
  },
  {
   "cell_type": "code",
   "execution_count": 36,
   "metadata": {},
   "outputs": [
    {
     "name": "stdout",
     "output_type": "stream",
     "text": [
      "[[0 0 0]\n",
      " [3 0 3]]\n"
     ]
    },
    {
     "data": {
      "text/plain": [
       "array([[0.25      , 0.33333333, 0.55555556],\n",
       "       [3.5       , 0.2       , 3.        ]])"
      ]
     },
     "execution_count": 36,
     "metadata": {},
     "output_type": "execute_result"
    }
   ],
   "source": [
    "#Numpy arithmetics\n",
    "a = np.array([[1,2,5],[7,1,3]])\n",
    "b = np.array([[4,6,9],[2,5,1,]])\n",
    "\n",
    "add1 = a + b #this adds the arrays\n",
    "add1\n",
    "\n",
    "add2 =  np.add(a,b) #another way of adding arrays\n",
    "\n",
    "\n",
    "sub1 = a - b\n",
    "\n",
    "\n",
    "sub2 = np.subtract(a,b)\n",
    "sub2\n",
    "\n",
    "mul1 = a * b\n",
    "mul1\n",
    "\n",
    "mul2 = np.multiply(a,b)\n",
    "mul2\n",
    "\n",
    "div1 = a / b # You can use // for div \n",
    "div1\n",
    "\n",
    "div2 = np.divide(a,b)\n",
    "div2\n",
    "\n",
    "exp =  np.exp(a)\n",
    "sqroot =  np.sqrt(a)\n",
    "sin = np.sin(a)\n",
    "cos = np.cos(a)\n",
    "log = np.log(a)"
   ]
  },
  {
   "cell_type": "code",
   "execution_count": null,
   "metadata": {},
   "outputs": [],
   "source": []
  }
 ],
 "metadata": {
  "kernelspec": {
   "display_name": "Python 3.10.7 64-bit",
   "language": "python",
   "name": "python3"
  },
  "language_info": {
   "codemirror_mode": {
    "name": "ipython",
    "version": 3
   },
   "file_extension": ".py",
   "mimetype": "text/x-python",
   "name": "python",
   "nbconvert_exporter": "python",
   "pygments_lexer": "ipython3",
   "version": "3.10.7"
  },
  "orig_nbformat": 4,
  "vscode": {
   "interpreter": {
    "hash": "aee8b7b246df8f9039afb4144a1f6fd8d2ca17a180786b69acc140d282b71a49"
   }
  }
 },
 "nbformat": 4,
 "nbformat_minor": 2
}
