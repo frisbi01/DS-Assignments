{
 "cells": [
  {
   "cell_type": "code",
   "execution_count": 9,
   "metadata": {},
   "outputs": [],
   "source": [
    "import smtpd\n",
    "import pygame \n",
    "import os\n",
    "\n",
    "\n",
    "pygame.font.init()\n",
    "pygame.init()\n",
    "pygame.mixer.init()\n",
    "\n",
    "s = \"/Users/frisbi01/DS course/\"\n",
    "music = pygame.mixer.music.load(os.path.join(s, \"S8BitAdventure.mp3\"))\n",
    "\n",
    "\n",
    "pygame.mixer.music.play(-0)\n"
   ]
  }
 ],
 "metadata": {
  "kernelspec": {
   "display_name": "Python 3.10.7 64-bit",
   "language": "python",
   "name": "python3"
  },
  "language_info": {
   "codemirror_mode": {
    "name": "ipython",
    "version": 3
   },
   "file_extension": ".py",
   "mimetype": "text/x-python",
   "name": "python",
   "nbconvert_exporter": "python",
   "pygments_lexer": "ipython3",
   "version": "3.10.7"
  },
  "orig_nbformat": 4,
  "vscode": {
   "interpreter": {
    "hash": "aee8b7b246df8f9039afb4144a1f6fd8d2ca17a180786b69acc140d282b71a49"
   }
  }
 },
 "nbformat": 4,
 "nbformat_minor": 2
}
