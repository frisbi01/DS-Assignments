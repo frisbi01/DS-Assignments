{
 "cells": [
  {
   "cell_type": "code",
   "execution_count": null,
   "metadata": {},
   "outputs": [],
   "source": [
    "# Importing the data file and making it more readable\n",
    "\n",
    "import numpy as np\n",
    "\n",
    "dataRaw = np.loadtxt(\"iris-head-num.txt\",delimiter=\",\", dtype=object) #remember to enter the type of the data, delimiter makes it more readable as it was supposed to be\n",
    "\n"
   ]
  },
  {
   "cell_type": "code",
   "execution_count": 47,
   "metadata": {},
   "outputs": [],
   "source": [
    "# This seperates the first row as the header of the data\n",
    "header = dataRaw[0,:]\n",
    "\n",
    "# We seperate the data which is the rest of the file from the second row and up to the 4th column\n",
    "data = dataRaw[1:,:4]\n",
    "data = np.vstack(data.astype(np.float32))\n",
    "\n",
    "# We seperate the labels which is the rest of the file from the second row but only the 5th column\n",
    "labels = dataRaw[1:,4]\n",
    "labels = np.vstack(labels.astype(np.int32)) #I don't get why we use the vstack here...\n"
   ]
  },
  {
   "cell_type": "code",
   "execution_count": null,
   "metadata": {},
   "outputs": [],
   "source": [
    "#Checking the size and type of the variables\n",
    "\n",
    "#Data\n",
    "print(f\"Data size is, {data.size}\")\n",
    "print(f\"Data type is, {data.dtype}\")\n",
    "print(f\"Data's shape is {data.shape}\")\n",
    "\n",
    "#DataRaw\n",
    "print(f\"DataRaw size is, {dataRaw.size}\")\n",
    "print(f\"DataRaw type is, {dataRaw.dtype}\")\n",
    "print(f\"DataRaw's shape is {dataRaw.shape}\")\n",
    "\n",
    "#header\n",
    "print(f\"Header size is, {header.size}\")\n",
    "print(f\"Header type is, {header.dtype}\")\n",
    "print(f\"Header's shape is {header.shape}\")\n",
    "\n",
    "#labels\n",
    "print(f\"Labels size is, {labels.size}\")\n",
    "print(f\"Labels type is, {labels.dtype}\")\n",
    "print(f\"Labels' shape is {labels.shape}\")"
   ]
  },
  {
   "cell_type": "code",
   "execution_count": null,
   "metadata": {},
   "outputs": [],
   "source": [
    "#Finding out unique labels and frequency\n",
    "\n",
    "labelsUn, labelsCounts = np.unique(labels, return_counts=True)\n",
    "\n"
   ]
  },
  {
   "cell_type": "code",
   "execution_count": null,
   "metadata": {},
   "outputs": [],
   "source": []
  }
 ],
 "metadata": {
  "kernelspec": {
   "display_name": "Python 3.10.7 64-bit",
   "language": "python",
   "name": "python3"
  },
  "language_info": {
   "codemirror_mode": {
    "name": "ipython",
    "version": 3
   },
   "file_extension": ".py",
   "mimetype": "text/x-python",
   "name": "python",
   "nbconvert_exporter": "python",
   "pygments_lexer": "ipython3",
   "version": "3.10.7"
  },
  "orig_nbformat": 4,
  "vscode": {
   "interpreter": {
    "hash": "aee8b7b246df8f9039afb4144a1f6fd8d2ca17a180786b69acc140d282b71a49"
   }
  }
 },
 "nbformat": 4,
 "nbformat_minor": 2
}
