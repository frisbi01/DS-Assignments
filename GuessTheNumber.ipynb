{
 "cells": [
  {
   "cell_type": "code",
   "execution_count": 38,
   "metadata": {},
   "outputs": [
    {
     "ename": "SyntaxError",
     "evalue": "name 'guess' is used prior to global declaration (3802439921.py, line 33)",
     "output_type": "error",
     "traceback": [
      "\u001b[0;36m  Cell \u001b[0;32mIn [38], line 33\u001b[0;36m\u001b[0m\n\u001b[0;31m    global guess\u001b[0m\n\u001b[0m    ^\u001b[0m\n\u001b[0;31mSyntaxError\u001b[0m\u001b[0;31m:\u001b[0m name 'guess' is used prior to global declaration\n"
     ]
    }
   ],
   "source": [
    "\n",
    "from random import randint\n",
    "\n",
    "number = randint(-100,100) #Generates the random number. Is there a way for random range as well?\n",
    "\n",
    "\n",
    "guess = \"word\" #This makes guess Not a number, so we can go on to the next step of securing the user from entering digits only.\n",
    "\n",
    "\n",
    "def compare(z,y): #This is a function to compare our numbers and give a way out of the loop\n",
    "        if z > y:\n",
    "            print(z,\" is too high \")\n",
    "            return\n",
    "        elif z < y:\n",
    "            print(z,\" is too low\")\n",
    "            return\n",
    "        else:\n",
    "            print(\"Your guess was correct! Congratulations\")\n",
    "            \n",
    "\n",
    "\n",
    "        \n",
    "        \n",
    "            \n",
    "        \n",
    "            \n",
    "\n",
    "\n",
    "\n",
    "while int(guess)!=number :\n",
    "    while str.isdigit(guess) == False: #This is a loop to secure the entry being an actual number and not letters.\n",
    "        guess = input(\"Guess the number\")\n",
    "        if str.isdigit(guess) == True:\n",
    "            int(guess)\n",
    "        \n",
    "            break \n",
    "        \n",
    "    \n",
    "    if int(guess) == number:\n",
    "        print(\"Your guess was correct! Congratulations\")\n",
    "        break\n",
    "    elif int(guess) < number:\n",
    "        print(guess,\" is too low\")\n",
    "        str(guess)\n",
    "    elif int(guess) > number:\n",
    "        print(guess,\" it too high\")\n",
    "        str(guess)\n",
    "    \n",
    "    \n",
    "    \n",
    "    \n",
    "     \n",
    "            \n",
    "\n",
    "\n",
    "        \n",
    "    \n",
    "\n",
    "\n",
    "    \n",
    "    \n"
   ]
  },
  {
   "cell_type": "code",
   "execution_count": null,
   "metadata": {},
   "outputs": [],
   "source": [
    "from random import randint\n",
    "\n",
    "number = randint(-100,100)\n",
    "\n",
    "guess = None\n",
    "\n",
    "while guess != number :\n",
    "\n",
    "    guess = int(input(\"Guess the number\"))\n",
    "\n",
    "    if guess < number :\n",
    "        print (guess, \" is too low\")\n",
    "    elif guess > number :\n",
    "        print (guess, \" is too high\")\n",
    "    else :\n",
    "        print (\"Your guess was right, Congratulations\")\n",
    "        break\n",
    "\n",
    "\n",
    "\n"
   ]
  }
 ],
 "metadata": {
  "kernelspec": {
   "display_name": "Python 3.10.7 64-bit",
   "language": "python",
   "name": "python3"
  },
  "language_info": {
   "codemirror_mode": {
    "name": "ipython",
    "version": 3
   },
   "file_extension": ".py",
   "mimetype": "text/x-python",
   "name": "python",
   "nbconvert_exporter": "python",
   "pygments_lexer": "ipython3",
   "version": "3.10.7"
  },
  "orig_nbformat": 4,
  "vscode": {
   "interpreter": {
    "hash": "aee8b7b246df8f9039afb4144a1f6fd8d2ca17a180786b69acc140d282b71a49"
   }
  }
 },
 "nbformat": 4,
 "nbformat_minor": 2
}
