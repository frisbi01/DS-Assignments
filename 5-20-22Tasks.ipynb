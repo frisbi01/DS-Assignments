{
 "cells": [
  {
   "cell_type": "code",
   "execution_count": 33,
   "metadata": {},
   "outputs": [
    {
     "name": "stdout",
     "output_type": "stream",
     "text": [
      "60\n",
      "6.0\n",
      "2  is below average\n",
      "4  is below average\n",
      "6  is equal to average\n",
      "8  is above average\n",
      "10  is above average\n",
      "10  is above average\n",
      "8  is above average\n",
      "6  is equal to average\n",
      "4  is below average\n",
      "2  is below average\n"
     ]
    }
   ],
   "source": [
    "#Task 2\n",
    "\n",
    "\n",
    "number_list=[]\n",
    "\n",
    "for i in range (0, 10):\n",
    "    number =int(input('Give me a number'))\n",
    "    number_list.append(number)\n",
    "\n",
    "\n",
    "\n",
    "print (sum(number_list))\n",
    "\n",
    "def list_average():\n",
    "   average = sum(number_list)/len(number_list)\n",
    "   return average\n",
    "\n",
    "print (list_average())\n",
    "\n",
    "for i in range (0, 10):\n",
    "    if number_list[i]<list_average():\n",
    "        print(number_list[i], \" is below average\")\n",
    "    elif number_list[i]>list_average():\n",
    "        print(number_list[i],\" is above average\")\n",
    "    else:\n",
    "        print(number_list[i], \" is equal to average\")\n"
   ]
  },
  {
   "cell_type": "code",
   "execution_count": null,
   "metadata": {},
   "outputs": [],
   "source": [
    "#Task 1\n",
    "\n"
   ]
  }
 ],
 "metadata": {
  "kernelspec": {
   "display_name": "Python 3.10.7 64-bit",
   "language": "python",
   "name": "python3"
  },
  "language_info": {
   "codemirror_mode": {
    "name": "ipython",
    "version": 3
   },
   "file_extension": ".py",
   "mimetype": "text/x-python",
   "name": "python",
   "nbconvert_exporter": "python",
   "pygments_lexer": "ipython3",
   "version": "3.10.7"
  },
  "orig_nbformat": 4,
  "vscode": {
   "interpreter": {
    "hash": "aee8b7b246df8f9039afb4144a1f6fd8d2ca17a180786b69acc140d282b71a49"
   }
  }
 },
 "nbformat": 4,
 "nbformat_minor": 2
}
