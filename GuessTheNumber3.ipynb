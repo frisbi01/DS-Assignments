{
 "cells": [
  {
   "cell_type": "code",
   "execution_count": null,
   "metadata": {},
   "outputs": [],
   "source": [
    "from random import randint\n",
    "\n",
    "number = randint(-100,100)\n",
    "\n",
    "guess = None\n",
    "\n",
    "while guess != number :\n",
    "\n",
    "    guess = int(input(\"Guess the number\")) \n",
    "\n",
    "    if guess < number :        \n",
    "        print (guess, \" is too low\")\n",
    "    elif guess > number :\n",
    "        print (guess, \" is too high\")\n",
    "    else :\n",
    "        print (\"Your guess was right, Congratulations\")\n",
    "        break\n",
    "\n"
   ]
  }
 ],
 "metadata": {
  "language_info": {
   "name": "python"
  },
  "orig_nbformat": 4
 },
 "nbformat": 4,
 "nbformat_minor": 2
}
