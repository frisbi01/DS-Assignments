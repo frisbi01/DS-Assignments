{
 "cells": [
  {
   "cell_type": "code",
   "execution_count": 3,
   "metadata": {},
   "outputs": [
    {
     "name": "stdout",
     "output_type": "stream",
     "text": [
      "3\n"
     ]
    }
   ],
   "source": [
    "\n",
    "#I extended this one so that a DnD player can roll the classic dice set they use in the game.\n",
    "\n",
    "from mimetypes import init\n",
    "from random import randint\n",
    "#I knew no better way to randomise a range, so I ended up searching for a function that does that. \n",
    "# It's not cheating if you made the research, right?\n",
    "\n",
    "while True:\n",
    "\n",
    "    dice = int(input(\"Choose the number of sides to roll: 4, 6, 8, 10, 12, or 20\"))\n",
    "\n",
    "\n",
    "    if dice == 4 or dice == 6 or dice == 8 or dice == 10 or dice == 12 or dice == 20 : #Is there a better way for multiple choices?\n",
    "        print(randint(1, dice))\n",
    "    else :\n",
    "        print(\"Not a valied choice\")\n",
    "\n",
    "\n",
    "    answer = input(\"Do you want to roll another one? Y/N\")\n",
    "    if answer == \"N\" or answer == \"No\" : #Same question about multiple choices here, as a means to cover more expressions of 'No'\n",
    "        break\n",
    "\n",
    "\n",
    "\n"
   ]
  }
 ],
 "metadata": {
  "kernelspec": {
   "display_name": "Python 3.8.2 64-bit",
   "language": "python",
   "name": "python3"
  },
  "language_info": {
   "codemirror_mode": {
    "name": "ipython",
    "version": 3
   },
   "file_extension": ".py",
   "mimetype": "text/x-python",
   "name": "python",
   "nbconvert_exporter": "python",
   "pygments_lexer": "ipython3",
   "version": "3.10.7"
  },
  "orig_nbformat": 4,
  "vscode": {
   "interpreter": {
    "hash": "aee8b7b246df8f9039afb4144a1f6fd8d2ca17a180786b69acc140d282b71a49"
   }
  }
 },
 "nbformat": 4,
 "nbformat_minor": 2
}
